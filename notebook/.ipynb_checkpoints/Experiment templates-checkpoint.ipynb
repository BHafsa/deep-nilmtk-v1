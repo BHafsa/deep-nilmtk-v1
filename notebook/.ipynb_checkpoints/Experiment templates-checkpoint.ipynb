{
 "cells": [
  {
   "cell_type": "markdown",
   "id": "4a98632b",
   "metadata": {},
   "source": [
    "# Experiment templates\n",
    "**Author: Hafsa Bousbiat**\n",
    "\n",
    "\n",
    "NILMtk is toolkit offering a variety of tools for scholars to help them analyse NILM datasets. The recently introduced API made it very easy for users to interact and perform experiments using different experimental setups. However, the use of different setups in different papers makes it difficult to compare and analyse the results that are obtained from "
   ]
  },
  {
   "cell_type": "code",
   "execution_count": 1,
   "id": "a07653cd",
   "metadata": {},
   "outputs": [],
   "source": [
    "from deep_nilmtk.utils.templates import ExperimentTemplate\n",
    "\n",
    "import pandas as pd\n",
    "import numpy as np\n"
   ]
  },
  {
   "cell_type": "code",
   "execution_count": 2,
   "id": "d10e540a",
   "metadata": {},
   "outputs": [],
   "source": [
    "DATA_PATH = '../../data/ukdale.h5'"
   ]
  },
  {
   "cell_type": "code",
   "execution_count": 3,
   "id": "08f571c3",
   "metadata": {},
   "outputs": [
    {
     "name": "stderr",
     "output_type": "stream",
     "text": [
      "WARNING:root:the in_size and max_nb_epochs must be added to the list of this parameters\n",
      "WARNING:root:the in_size and max_nb_epochs must be added to the list of this parameters\n",
      "WARNING:root:the in_size and max_nb_epochs must be added to the list of this parameters\n",
      "WARNING:root:the in_size and max_nb_epochs must be added to the list of this parameters\n"
     ]
    }
   ],
   "source": [
    "template = ExperimentTemplate( data_path=DATA_PATH,\n",
    "                 template_name='ukdale',\n",
    "                 list_appliances=['washing machine'],\n",
    "                 list_baselines_backends=[('Seq2Pointbaseline', 'pytorch'), ('RNNbaseline', 'pytorch')],\n",
    "                 in_sequence=121,\n",
    "                 out_sequence=1,\n",
    "                 max_epochs=5)"
   ]
  },
  {
   "cell_type": "code",
   "execution_count": 5,
   "id": "920eff20",
   "metadata": {},
   "outputs": [
    {
     "name": "stdout",
     "output_type": "stream",
     "text": [
      "\"\n",
      "        The current experiment is based on template ukdale\n",
      "        Appliances ['washing machine']\n",
      "        NILM MODELS ['Seq2Pointbaseline', 'RNNbaseline']\n",
      "        Dataset path ../../data/ukdale.h5\n",
      "            - sampling rate :8\n",
      "            - training data \n",
      "                - uses following buildings 1\n",
      "            - testing data\n",
      "                - uses following buildings 1\n",
      "        \n"
     ]
    }
   ],
   "source": [
    "template.__print__()"
   ]
  },
  {
   "cell_type": "code",
   "execution_count": null,
   "id": "018f2d69",
   "metadata": {},
   "outputs": [],
   "source": [
    "unet_nilm = NILMExperiment({\n",
    "                \"model_class\": UNETNILM,\n",
    "                \"loader\": GeneralDataLoader,\n",
    "                \"model_name\": 'unet',\n",
    "                'backend':'pytorch',\n",
    "                'in_size': 121,\n",
    "                'out_size':1,\n",
    "                'custom_preprocess':None,\n",
    "                'feature_type':'mains',\n",
    "                'input_norm':'z-norm',\n",
    "                'target_norm':'z-norm',\n",
    "                'seq_type':'seq2point',\n",
    "                'point_position':'mid_position',\n",
    "                'learning_rate':10e-5,\n",
    "                'max_nb_epochs': 3\n",
    "                }),"
   ]
  }
 ],
 "metadata": {
  "kernelspec": {
   "display_name": "Python 3 (ipykernel)",
   "language": "python",
   "name": "python3"
  },
  "language_info": {
   "codemirror_mode": {
    "name": "ipython",
    "version": 3
   },
   "file_extension": ".py",
   "mimetype": "text/x-python",
   "name": "python",
   "nbconvert_exporter": "python",
   "pygments_lexer": "ipython3",
   "version": "3.8.12"
  }
 },
 "nbformat": 4,
 "nbformat_minor": 5
}
