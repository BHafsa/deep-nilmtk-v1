{
 "cells": [
  {
   "cell_type": "markdown",
   "metadata": {
    "collapsed": true,
    "pycharm": {
     "name": "#%% md\n"
    }
   },
   "source": [
    "# Manipulating components of the NILM pipeline\n",
    "\n",
    "The main goal of deep-NILMtk is to facilitate the implementation of NILM pipelines and to make it easier for scholars\n",
    "to explore different setups using minimal coding. This would not only allow fast prototyping but also enhance reproducibility and transparency in research. The code sharing and\n",
    "The implemented pipeline is illustarted in the figure bellow"
   ]
  },
  {
   "cell_type": "code",
   "execution_count": 1,
   "outputs": [],
   "source": [
    "from deep_nilmtk.models.pytorch import UNETNILM\n",
    "from deep_nilmtk.data.loader.pytorch import GeneralDataLoader\n",
    "from deep_nilmtk.utils import setup\n",
    "from deep_nilmtk.disaggregator import NILMExperiment"
   ],
   "metadata": {
    "collapsed": false,
    "pycharm": {
     "name": "#%%\n"
    }
   }
  },
  {
   "cell_type": "markdown",
   "source": [
    "## The case study of the UNET-NILM"
   ],
   "metadata": {
    "collapsed": false,
    "pycharm": {
     "name": "#%% md\n"
    }
   }
  },
  {
   "cell_type": "code",
   "execution_count": 8,
   "outputs": [
    {
     "name": "stdout",
     "output_type": "stream",
     "text": [
      "UNETNILM(\n",
      "  (enc_layers): ModuleList(\n",
      "    (0): Sequential(\n",
      "      (0): Conv1d(32, 30, kernel_size=(10,), stride=(2,))\n",
      "      (1): ReLU()\n",
      "    )\n",
      "    (1): Sequential(\n",
      "      (0): Conv1d(30, 30, kernel_size=(8,), stride=(2,))\n",
      "      (1): ReLU()\n",
      "    )\n",
      "    (2): Sequential(\n",
      "      (0): Conv1d(30, 40, kernel_size=(6,), stride=(1,))\n",
      "      (1): ReLU()\n",
      "    )\n",
      "    (3): Sequential(\n",
      "      (0): Conv1d(40, 50, kernel_size=(5,), stride=(1,))\n",
      "      (1): ReLU()\n",
      "      (2): Dropout(p=0.2, inplace=False)\n",
      "    )\n",
      "    (4): Sequential(\n",
      "      (0): Conv1d(50, 50, kernel_size=(5,), stride=(1,))\n",
      "      (1): ReLU()\n",
      "    )\n",
      "  )\n",
      "  (dec_layers): ModuleList(\n",
      "    (0): Up(\n",
      "      (upsample): Sequential(\n",
      "        (0): ConvTranspose1d(50, 40, kernel_size=(5,), stride=(1,))\n",
      "        (1): ReLU()\n",
      "      )\n",
      "      (conv): Sequential(\n",
      "        (0): Conv1d(90, 40, kernel_size=(5,), stride=(1,))\n",
      "        (1): ReLU()\n",
      "      )\n",
      "    )\n",
      "    (1): Up(\n",
      "      (upsample): Sequential(\n",
      "        (0): ConvTranspose1d(40, 30, kernel_size=(5,), stride=(1,))\n",
      "        (1): ReLU()\n",
      "      )\n",
      "      (conv): Sequential(\n",
      "        (0): Conv1d(70, 30, kernel_size=(5,), stride=(1,))\n",
      "        (1): ReLU()\n",
      "      )\n",
      "    )\n",
      "    (2): Up(\n",
      "      (upsample): Sequential(\n",
      "        (0): ConvTranspose1d(30, 30, kernel_size=(6,), stride=(1,))\n",
      "        (1): ReLU()\n",
      "      )\n",
      "      (conv): Sequential(\n",
      "        (0): Conv1d(60, 30, kernel_size=(6,), stride=(1,))\n",
      "        (1): ReLU()\n",
      "      )\n",
      "    )\n",
      "  )\n",
      "  (fc): Sequential(\n",
      "    (0): AdaptiveAvgPool1d(output_size=8)\n",
      "    (1): Flatten(start_dim=1, end_dim=-1)\n",
      "    (2): Linear(in_features=240, out_features=1024, bias=True)\n",
      "    (3): ReLU()\n",
      "    (4): Dropout(p=0.2, inplace=False)\n",
      "    (5): Linear(in_features=1024, out_features=1, bias=True)\n",
      "  )\n",
      ")\n"
     ]
    }
   ],
   "source": [
    "model = UNETNILM({\n",
    "    'n_channels':32\n",
    "})\n",
    "print(model)"
   ],
   "metadata": {
    "collapsed": false,
    "pycharm": {
     "name": "#%%\n"
    }
   }
  }
 ],
 "metadata": {
  "kernelspec": {
   "display_name": "Python 3",
   "language": "python",
   "name": "python3"
  },
  "language_info": {
   "codemirror_mode": {
    "name": "ipython",
    "version": 2
   },
   "file_extension": ".py",
   "mimetype": "text/x-python",
   "name": "python",
   "nbconvert_exporter": "python",
   "pygments_lexer": "ipython2",
   "version": "2.7.6"
  }
 },
 "nbformat": 4,
 "nbformat_minor": 0
}