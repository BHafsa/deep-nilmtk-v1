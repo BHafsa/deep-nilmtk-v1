{
 "cells": [
  {
   "cell_type": "markdown",
   "id": "2eb5541b",
   "metadata": {},
   "source": [
    "# Testing a new contribution"
   ]
  },
  {
   "cell_type": "code",
   "execution_count": 4,
   "id": "e6789d49",
   "metadata": {},
   "outputs": [],
   "source": [
    "import numpy as np\n",
    "import pandas as pd\n",
    "\n",
    "from deep_nilmtk.utils.templates import ExperimentTemplate\n"
   ]
  },
  {
   "cell_type": "markdown",
   "id": "4b2a8cb4",
   "metadata": {},
   "source": [
    "## Custom model"
   ]
  },
  {
   "cell_type": "code",
   "execution_count": null,
   "id": "b4b60c7b",
   "metadata": {},
   "outputs": [],
   "source": [
    "class new_nilm:\n",
    "    def __init__():\n",
    "        pass"
   ]
  },
  {
   "cell_type": "markdown",
   "id": "698a2a19",
   "metadata": {},
   "source": [
    "## Custom data loader"
   ]
  },
  {
   "cell_type": "code",
   "execution_count": null,
   "id": "55ab8cca",
   "metadata": {},
   "outputs": [],
   "source": [
    "class new_loader:\n",
    "    def __init__():\n",
    "        pass"
   ]
  },
  {
   "cell_type": "markdown",
   "id": "bf84b30e",
   "metadata": {},
   "source": [
    "## Benchmarking with existing baselines"
   ]
  },
  {
   "cell_type": "code",
   "execution_count": null,
   "id": "48854b06",
   "metadata": {},
   "outputs": [],
   "source": []
  },
  {
   "cell_type": "markdown",
   "id": "315ab569",
   "metadata": {},
   "source": [
    "## Checking the results"
   ]
  },
  {
   "cell_type": "code",
   "execution_count": null,
   "id": "d0fa7a9b",
   "metadata": {},
   "outputs": [],
   "source": []
  }
 ],
 "metadata": {
  "kernelspec": {
   "display_name": "Python 3 (ipykernel)",
   "language": "python",
   "name": "python3"
  },
  "language_info": {
   "codemirror_mode": {
    "name": "ipython",
    "version": 3
   },
   "file_extension": ".py",
   "mimetype": "text/x-python",
   "name": "python",
   "nbconvert_exporter": "python",
   "pygments_lexer": "ipython3",
   "version": "3.8.12"
  }
 },
 "nbformat": 4,
 "nbformat_minor": 5
}
