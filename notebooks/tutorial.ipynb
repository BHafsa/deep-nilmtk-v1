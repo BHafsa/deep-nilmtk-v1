{
 "cells": [
  {
   "cell_type": "code",
   "execution_count": 20,
   "id": "north-clothing",
   "metadata": {},
   "outputs": [
    {
     "name": "stdout",
     "output_type": "stream",
     "text": [
      "torch.Size([64, 64, 6])\n",
      "torch.Size([64, 64, 3])\n"
     ]
    },
    {
     "data": {
      "text/plain": [
       "torch.Size([64, 32, 30])"
      ]
     },
     "execution_count": 20,
     "metadata": {},
     "output_type": "execute_result"
    }
   ],
   "source": [
    "import torch\n",
    "import torch.nn as nn\n",
    "import torch.nn.functional as F\n",
    "\n",
    "class _TemporalPooling(nn.Module):\n",
    "    def __init__(self, in_features=3, out_features=1, kernel_size=2,\n",
    "                 dropout=0.1):\n",
    "        super(_TemporalPooling, self).__init__()\n",
    "        self.kernel_size = kernel_size\n",
    "\n",
    "        self.pool = nn.AvgPool1d(kernel_size=self.kernel_size,\n",
    "                                 stride=self.kernel_size, padding=0)\n",
    "        \n",
    "\n",
    "        self.conv = nn.Conv1d(in_features, out_features, kernel_size=1,\n",
    "                             \n",
    "                              padding=0)\n",
    "                              \n",
    "        self.bn = nn.BatchNorm1d(out_features)\n",
    "        self.drop = nn.Dropout(dropout)\n",
    "\n",
    "    def forward(self, x):\n",
    "        # TODO: verify that the inputs are in the right shape\n",
    "        x = self.pool(x)\n",
    "        print(x.shape)\n",
    "        x = self.conv(x)\n",
    "        \n",
    "        x = self.bn(F.relu(x))\n",
    "        \n",
    "        x = self.drop(F.interpolate(x, scale_factor=self.kernel_size,\n",
    "                                    mode='linear', align_corners=True))\n",
    "        return x\n",
    "\n",
    "L = 32\n",
    "\n",
    "x = torch.rand((64,64,L))\n",
    "layer1 = _TemporalPooling(64, 16, int(L/6))\n",
    "layer2 = _TemporalPooling(64, 16, int(L/4))\n",
    "layer3 = _TemporalPooling(64, 16, int(L/3))\n",
    "layer4 = _TemporalPooling(64, 16, int(L/2))\n",
    "\n",
    "torch.cat([layer1(x), layer3(x)], axis=1).shape\n"
   ]
  }
 ],
 "metadata": {
  "kernelspec": {
   "display_name": "Python 3",
   "language": "python",
   "name": "python3"
  },
  "language_info": {
   "codemirror_mode": {
    "name": "ipython",
    "version": 3
   },
   "file_extension": ".py",
   "mimetype": "text/x-python",
   "name": "python",
   "nbconvert_exporter": "python",
   "pygments_lexer": "ipython3",
   "version": "3.8.8"
  }
 },
 "nbformat": 4,
 "nbformat_minor": 5
}
